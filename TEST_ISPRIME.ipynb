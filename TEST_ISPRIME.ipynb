{
 "cells": [
  {
   "cell_type": "code",
   "execution_count": 1,
   "id": "3c301c3c",
   "metadata": {},
   "outputs": [
    {
     "name": "stdout",
     "output_type": "stream",
     "text": [
      "Current Working Directory: C:\\Users\\arush\\yay\\prime_as6723\n"
     ]
    }
   ],
   "source": [
    "import os\n",
    "\n",
    "# Get the current working directory\n",
    "current_directory = os.getcwd()\n",
    "\n",
    "# Print the current working directory\n",
    "print(\"Current Working Directory:\", current_directory)"
   ]
  },
  {
   "cell_type": "code",
   "execution_count": 7,
   "id": "4662b5cc",
   "metadata": {},
   "outputs": [
    {
     "name": "stdout",
     "output_type": "stream",
     "text": [
      "New Working Directory: C:\\Users\\arush\\yay\\prime_as6723\n"
     ]
    }
   ],
   "source": [
    "import os\n",
    "\n",
    "# Specify the new directory path\n",
    "new_directory = r'C:\\Users\\arush\\yay\\prime_as6723'\n",
    "\n",
    "# Change the working directory\n",
    "os.chdir(new_directory)\n",
    "\n",
    "# Confirm the new working directory\n",
    "current_directory = os.getcwd()\n",
    "print(\"New Working Directory:\", current_directory)\n"
   ]
  },
  {
   "cell_type": "code",
   "execution_count": 8,
   "id": "28b1d2e2",
   "metadata": {},
   "outputs": [],
   "source": [
    "import math\n",
    "\n",
    "def is_prime(n):\n",
    "    \"\"\"\n",
    "    To check if a number is prime or not.\n",
    "\n",
    "    Its inputs are integers and outputs are 'True' or 'False' depending on whether the input integer is prime or not respectively. \n",
    "    \n",
    "    Example:\n",
    "        1) is_prime(7)\n",
    "        True\n",
    "\n",
    "        2) is_prime(9)\n",
    "        False\n",
    "    \"\"\"\n",
    "    if n <= 1:\n",
    "        return False\n",
    "    for i in range(2, int(math.sqrt(n)) + 1):\n",
    "        if n % i == 0:\n",
    "            return False\n",
    "    return True\n"
   ]
  },
  {
   "cell_type": "code",
   "execution_count": 10,
   "id": "e116daa7",
   "metadata": {},
   "outputs": [],
   "source": [
    "import pytest"
   ]
  },
  {
   "cell_type": "code",
   "execution_count": 11,
   "id": "4331cc1b",
   "metadata": {},
   "outputs": [],
   "source": [
    "# Defining the test cases with input numbers and expected results\n",
    "test_cases = [\n",
    "    (2, True),    # 2 is a prime number\n",
    "    (7, True),    # 7 is a prime number\n",
    "    (8, False),   # 8 is not a prime number\n",
    "    (9, False),   # 9 is not a prime number\n",
    "    (-1, False),  # -1 is not a prime number\n",
    "    (0, False),   # 0 is not a prime number\n",
    "    (1, False),   # 1 is not a prime number\n",
    "]\n",
    "\n",
    "# Creating the test_is_prime_param function to run the test cases\n",
    "@pytest.mark.parametrize(\"number, expected_result\", test_cases)\n",
    "def test_is_prime_param(number, expected_result):\n",
    "    assert is_prime(number) == expected_result "
   ]
  },
  {
   "cell_type": "code",
   "execution_count": null,
   "id": "41d70d7e",
   "metadata": {},
   "outputs": [],
   "source": []
  },
  {
   "cell_type": "code",
   "execution_count": null,
   "id": "e24051ba",
   "metadata": {},
   "outputs": [],
   "source": []
  }
 ],
 "metadata": {
  "kernelspec": {
   "display_name": "Python 3 (ipykernel)",
   "language": "python",
   "name": "python3"
  },
  "language_info": {
   "codemirror_mode": {
    "name": "ipython",
    "version": 3
   },
   "file_extension": ".py",
   "mimetype": "text/x-python",
   "name": "python",
   "nbconvert_exporter": "python",
   "pygments_lexer": "ipython3",
   "version": "3.7.4"
  }
 },
 "nbformat": 4,
 "nbformat_minor": 5
}
