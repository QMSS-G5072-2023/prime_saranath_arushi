{
 "cells": [
  {
   "cell_type": "code",
   "execution_count": 4,
   "id": "00ba94e9",
   "metadata": {},
   "outputs": [
    {
     "name": "stdout",
     "output_type": "stream",
     "text": [
      "Collecting prime_as6723\n",
      "  Downloading prime_as6723-1.1.0.tar.gz (2.8 kB)\n",
      "  Installing build dependencies: started\n",
      "  Installing build dependencies: finished with status 'done'\n",
      "  Getting requirements to build wheel: started\n",
      "  Getting requirements to build wheel: finished with status 'done'\n",
      "  Preparing metadata (pyproject.toml): started\n",
      "  Preparing metadata (pyproject.toml): finished with status 'error'\n"
     ]
    },
    {
     "name": "stderr",
     "output_type": "stream",
     "text": [
      "  error: subprocess-exited-with-error\n",
      "  \n",
      "  Preparing metadata (pyproject.toml) did not run successfully.\n",
      "  exit code: 1\n",
      "  \n",
      "  [16 lines of output]\n",
      "  Traceback (most recent call last):\n",
      "    File \"c:\\users\\arush\\.pyenv\\pyenv-win\\versions\\3.7.4\\lib\\site-packages\\pip\\_vendor\\pyproject_hooks\\_in_process\\_in_process.py\", line 353, in <module>\n",
      "      main()\n",
      "    File \"c:\\users\\arush\\.pyenv\\pyenv-win\\versions\\3.7.4\\lib\\site-packages\\pip\\_vendor\\pyproject_hooks\\_in_process\\_in_process.py\", line 335, in main\n",
      "      json_out['return_val'] = hook(**hook_input['kwargs'])\n",
      "    File \"c:\\users\\arush\\.pyenv\\pyenv-win\\versions\\3.7.4\\lib\\site-packages\\pip\\_vendor\\pyproject_hooks\\_in_process\\_in_process.py\", line 149, in prepare_metadata_for_build_wheel\n",
      "      return hook(metadata_directory, config_settings)\n",
      "    File \"C:\\Users\\arush\\AppData\\Local\\Temp\\pip-build-env-o1t647d4\\overlay\\Lib\\site-packages\\poetry\\core\\masonry\\api.py\", line 42, in prepare_metadata_for_build_wheel\n",
      "      builder = WheelBuilder(poetry)\n",
      "    File \"C:\\Users\\arush\\AppData\\Local\\Temp\\pip-build-env-o1t647d4\\overlay\\Lib\\site-packages\\poetry\\core\\masonry\\builders\\wheel.py\", line 62, in __init__\n",
      "      super().__init__(poetry, executable=executable)\n",
      "    File \"C:\\Users\\arush\\AppData\\Local\\Temp\\pip-build-env-o1t647d4\\overlay\\Lib\\site-packages\\poetry\\core\\masonry\\builders\\builder.py\", line 89, in __init__\n",
      "      includes=includes,\n",
      "    File \"C:\\Users\\arush\\AppData\\Local\\Temp\\pip-build-env-o1t647d4\\overlay\\Lib\\site-packages\\poetry\\core\\masonry\\utils\\module.py\", line 70, in __init__\n",
      "      f\"No file/folder found for package {name}\"\n",
      "  poetry.core.masonry.utils.module.ModuleOrPackageNotFound: No file/folder found for package prime-as6723\n",
      "  [end of output]\n",
      "  \n",
      "  note: This error originates from a subprocess, and is likely not a problem with pip.\n",
      "error: metadata-generation-failed\n",
      "\n",
      "Encountered error while generating package metadata.\n",
      "\n",
      "See above for output.\n",
      "\n",
      "note: This is an issue with the package mentioned above, not pip.\n",
      "hint: See above for details.\n",
      "\n",
      "[notice] A new release of pip is available: 23.2.1 -> 23.3.1\n",
      "[notice] To update, run: python.exe -m pip install --upgrade pip\n"
     ]
    }
   ],
   "source": [
    "! pip install prime_as6723\n"
   ]
  },
  {
   "cell_type": "code",
   "execution_count": 5,
   "id": "6119d2ff",
   "metadata": {},
   "outputs": [
    {
     "ename": "ModuleNotFoundError",
     "evalue": "No module named 'prime_as6723'",
     "output_type": "error",
     "traceback": [
      "\u001b[1;31m---------------------------------------------------------------------------\u001b[0m",
      "\u001b[1;31mModuleNotFoundError\u001b[0m                       Traceback (most recent call last)",
      "\u001b[1;32m~\\AppData\\Local\\Temp\\ipykernel_4060\\3013427991.py\u001b[0m in \u001b[0;36m<module>\u001b[1;34m\u001b[0m\n\u001b[1;32m----> 1\u001b[1;33m \u001b[1;32mimport\u001b[0m \u001b[0mprime_as6723\u001b[0m\u001b[1;33m\u001b[0m\u001b[1;33m\u001b[0m\u001b[0m\n\u001b[0m",
      "\u001b[1;31mModuleNotFoundError\u001b[0m: No module named 'prime_as6723'"
     ]
    }
   ],
   "source": [
    "import prime_as6723"
   ]
  },
  {
   "cell_type": "code",
   "execution_count": null,
   "id": "fcb4ce75",
   "metadata": {},
   "outputs": [],
   "source": []
  }
 ],
 "metadata": {
  "kernelspec": {
   "display_name": "Python 3 (ipykernel)",
   "language": "python",
   "name": "python3"
  },
  "language_info": {
   "codemirror_mode": {
    "name": "ipython",
    "version": 3
   },
   "file_extension": ".py",
   "mimetype": "text/x-python",
   "name": "python",
   "nbconvert_exporter": "python",
   "pygments_lexer": "ipython3",
   "version": "3.7.4"
  }
 },
 "nbformat": 4,
 "nbformat_minor": 5
}
